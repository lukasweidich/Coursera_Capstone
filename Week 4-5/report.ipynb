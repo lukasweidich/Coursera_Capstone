{
 "metadata": {
  "language_info": {
   "codemirror_mode": {
    "name": "ipython",
    "version": 3
   },
   "file_extension": ".py",
   "mimetype": "text/x-python",
   "name": "python",
   "nbconvert_exporter": "python",
   "pygments_lexer": "ipython3",
   "version": "3.8.3-final"
  },
  "orig_nbformat": 2,
  "kernelspec": {
   "name": "python3",
   "display_name": "Python 3"
  }
 },
 "nbformat": 4,
 "nbformat_minor": 2,
 "cells": [
  {
   "source": [
    "# Introduction/Business Problem"
   ],
   "cell_type": "markdown",
   "metadata": {}
  },
  {
   "source": [
    "## Task: Clearly define a problem or an idea of your choice, where you would need to leverage the Foursquare location data to solve or execute. Remember that data science problems always target an audience and are meant to help a group of stakeholders solve a problem, so make sure that you explicitly describe your audience and why they would care about your problem."
   ],
   "cell_type": "markdown",
   "metadata": {}
  },
  {
   "source": [
    "For my final capstone project, I am going to examine the availability of local computer hardware offerings within in my area. For this, I will use the eBay API and Foursquare API to find out whether there are especially popular areas for offering computer services and hardware. Also, I am interested in whether the Foursquare business locations are in any other way related to the current eBay listings regarding location. Using this information, I am going to identify and visualize less popular areas and might be able to find less competitive locations to set up a new business."
   ],
   "cell_type": "markdown",
   "metadata": {}
  },
  {
   "source": [
    "# Data"
   ],
   "cell_type": "markdown",
   "metadata": {}
  },
  {
   "source": [
    "## Task: Describe the data that you will be using to solve the problem or execute your idea. Remember that you will need to use the Foursquare location data to solve the problem or execute your idea. You can absolutely use other datasets in combination with the Foursquare location data. So make sure that you provide adequate explanation and discussion, with examples, of the data that you will be using, even if it is only Foursquare location data."
   ],
   "cell_type": "markdown",
   "metadata": {}
  },
  {
   "source": [
    "I am using data from two APIs: Foursquare supplies general data about businesses within my area including location and name. By using the eBay API, i will be able to access all current listings within my area for a certain query. Combining these two, I hope to get insights into certain hotspots that are accumulating most of the total offerings. The eBay data will be available locally within this project while the Foursquare data will be fetched within the notebook."
   ],
   "cell_type": "markdown",
   "metadata": {}
  }
 ]
}